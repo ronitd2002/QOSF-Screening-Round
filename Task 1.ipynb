{
 "cells": [
  {
   "cell_type": "markdown",
   "id": "6b6476bb",
   "metadata": {},
   "source": [
    "# Screening Round (QOSF Mentorship) [Cohort 7]"
   ]
  },
  {
   "cell_type": "markdown",
   "id": "59306c0e",
   "metadata": {},
   "source": [
    "#### Importing libraries"
   ]
  },
  {
   "cell_type": "code",
   "execution_count": 1,
   "id": "04c03845",
   "metadata": {},
   "outputs": [],
   "source": [
    "from qiskit import QuantumRegister, ClassicalRegister, QuantumCircuit, Aer, execute"
   ]
  },
  {
   "cell_type": "markdown",
   "id": "39ee6832",
   "metadata": {},
   "source": [
    "### Function to print greater number"
   ]
  },
  {
   "cell_type": "markdown",
   "id": "9612efc0",
   "metadata": {},
   "source": [
    "In the solution, our function takes two integers num1 and num2 as input and returns the greater number. \n",
    "\n",
    "1) It first determines the number of qubits required to encode the integers as binary numbers. "
   ]
  },
  {
   "cell_type": "markdown",
   "id": "f3fd14b7",
   "metadata": {},
   "source": [
    "2) It then initializes a quantum circuit with the required number of qubits and constructs the comparator circuit using Fredkin gates."
   ]
  },
  {
   "cell_type": "markdown",
   "id": "e274e1d5",
   "metadata": {},
   "source": [
    "3) The output qubits are measured, and the measurement results are used to determine the greater number.\n",
    "\n",
    "-> The function executes the circuit on a simulator using Qiskit's Aer backend."
   ]
  },
  {
   "cell_type": "code",
   "execution_count": 2,
   "id": "591deff8",
   "metadata": {},
   "outputs": [
    {
     "ename": "CircuitError",
     "evalue": "'duplicate qubit arguments'",
     "output_type": "error",
     "traceback": [
      "\u001b[1;31m---------------------------------------------------------------------------\u001b[0m",
      "\u001b[1;31mCircuitError\u001b[0m                              Traceback (most recent call last)",
      "Cell \u001b[1;32mIn[2], line 38\u001b[0m\n\u001b[0;32m     34\u001b[0m         \u001b[38;5;28;01melse\u001b[39;00m:\n\u001b[0;32m     35\u001b[0m             \u001b[38;5;28;01mreturn\u001b[39;00m num2\n\u001b[1;32m---> 38\u001b[0m \u001b[38;5;28mprint\u001b[39m(\u001b[43mquantum_comparator\u001b[49m\u001b[43m(\u001b[49m\u001b[38;5;241;43m5\u001b[39;49m\u001b[43m,\u001b[49m\u001b[38;5;241;43m6\u001b[39;49m\u001b[43m)\u001b[49m)\n",
      "Cell \u001b[1;32mIn[2], line 19\u001b[0m, in \u001b[0;36mquantum_comparator\u001b[1;34m(num1, num2)\u001b[0m\n\u001b[0;32m     17\u001b[0m \u001b[38;5;66;03m# Construct the comparator circuit using Fredkin gates\u001b[39;00m\n\u001b[0;32m     18\u001b[0m \u001b[38;5;28;01mfor\u001b[39;00m i \u001b[38;5;129;01min\u001b[39;00m \u001b[38;5;28mrange\u001b[39m(num_qubits \u001b[38;5;241m-\u001b[39m \u001b[38;5;241m1\u001b[39m):\n\u001b[1;32m---> 19\u001b[0m     \u001b[43mqc\u001b[49m\u001b[38;5;241;43m.\u001b[39;49m\u001b[43mcswap\u001b[49m\u001b[43m(\u001b[49m\u001b[43mqr\u001b[49m\u001b[43m[\u001b[49m\u001b[43mi\u001b[49m\u001b[43m]\u001b[49m\u001b[43m,\u001b[49m\u001b[43m \u001b[49m\u001b[43mqr\u001b[49m\u001b[43m[\u001b[49m\u001b[43mnum_qubits\u001b[49m\u001b[43m \u001b[49m\u001b[38;5;241;43m-\u001b[39;49m\u001b[43m \u001b[49m\u001b[38;5;241;43m1\u001b[39;49m\u001b[43m]\u001b[49m\u001b[43m,\u001b[49m\u001b[43m \u001b[49m\u001b[43mqr\u001b[49m\u001b[43m[\u001b[49m\u001b[43mnum_qubits\u001b[49m\u001b[43m \u001b[49m\u001b[38;5;241;43m-\u001b[39;49m\u001b[43m \u001b[49m\u001b[43mi\u001b[49m\u001b[43m \u001b[49m\u001b[38;5;241;43m-\u001b[39;49m\u001b[43m \u001b[49m\u001b[38;5;241;43m2\u001b[39;49m\u001b[43m]\u001b[49m\u001b[43m)\u001b[49m\n\u001b[0;32m     21\u001b[0m \u001b[38;5;66;03m# Measure the output qubits\u001b[39;00m\n\u001b[0;32m     22\u001b[0m \u001b[38;5;28;01mfor\u001b[39;00m i \u001b[38;5;129;01min\u001b[39;00m \u001b[38;5;28mrange\u001b[39m(num_qubits \u001b[38;5;241m-\u001b[39m \u001b[38;5;241m1\u001b[39m):\n",
      "File \u001b[1;32m~\\anaconda3\\envs\\tf\\lib\\site-packages\\qiskit\\circuit\\quantumcircuit.py:3582\u001b[0m, in \u001b[0;36mQuantumCircuit.cswap\u001b[1;34m(self, control_qubit, target_qubit1, target_qubit2, label, ctrl_state)\u001b[0m\n\u001b[0;32m   3564\u001b[0m \u001b[38;5;250m\u001b[39m\u001b[38;5;124;03m\"\"\"Apply :class:`~qiskit.circuit.library.CSwapGate`.\u001b[39;00m\n\u001b[0;32m   3565\u001b[0m \n\u001b[0;32m   3566\u001b[0m \u001b[38;5;124;03mFor the full matrix form of this gate, see the underlying gate documentation.\u001b[39;00m\n\u001b[1;32m   (...)\u001b[0m\n\u001b[0;32m   3578\u001b[0m \u001b[38;5;124;03m    A handle to the instructions created.\u001b[39;00m\n\u001b[0;32m   3579\u001b[0m \u001b[38;5;124;03m\"\"\"\u001b[39;00m\n\u001b[0;32m   3580\u001b[0m \u001b[38;5;28;01mfrom\u001b[39;00m \u001b[38;5;21;01m.\u001b[39;00m\u001b[38;5;21;01mlibrary\u001b[39;00m\u001b[38;5;21;01m.\u001b[39;00m\u001b[38;5;21;01mstandard_gates\u001b[39;00m\u001b[38;5;21;01m.\u001b[39;00m\u001b[38;5;21;01mswap\u001b[39;00m \u001b[38;5;28;01mimport\u001b[39;00m CSwapGate\n\u001b[1;32m-> 3582\u001b[0m \u001b[38;5;28;01mreturn\u001b[39;00m \u001b[38;5;28;43mself\u001b[39;49m\u001b[38;5;241;43m.\u001b[39;49m\u001b[43mappend\u001b[49m\u001b[43m(\u001b[49m\n\u001b[0;32m   3583\u001b[0m \u001b[43m    \u001b[49m\u001b[43mCSwapGate\u001b[49m\u001b[43m(\u001b[49m\u001b[43mlabel\u001b[49m\u001b[38;5;241;43m=\u001b[39;49m\u001b[43mlabel\u001b[49m\u001b[43m,\u001b[49m\u001b[43m \u001b[49m\u001b[43mctrl_state\u001b[49m\u001b[38;5;241;43m=\u001b[39;49m\u001b[43mctrl_state\u001b[49m\u001b[43m)\u001b[49m\u001b[43m,\u001b[49m\n\u001b[0;32m   3584\u001b[0m \u001b[43m    \u001b[49m\u001b[43m[\u001b[49m\u001b[43mcontrol_qubit\u001b[49m\u001b[43m,\u001b[49m\u001b[43m \u001b[49m\u001b[43mtarget_qubit1\u001b[49m\u001b[43m,\u001b[49m\u001b[43m \u001b[49m\u001b[43mtarget_qubit2\u001b[49m\u001b[43m]\u001b[49m\u001b[43m,\u001b[49m\n\u001b[0;32m   3585\u001b[0m \u001b[43m    \u001b[49m\u001b[43m[\u001b[49m\u001b[43m]\u001b[49m\u001b[43m,\u001b[49m\n\u001b[0;32m   3586\u001b[0m \u001b[43m\u001b[49m\u001b[43m)\u001b[49m\n",
      "File \u001b[1;32m~\\anaconda3\\envs\\tf\\lib\\site-packages\\qiskit\\circuit\\quantumcircuit.py:1310\u001b[0m, in \u001b[0;36mQuantumCircuit.append\u001b[1;34m(self, instruction, qargs, cargs)\u001b[0m\n\u001b[0;32m   1308\u001b[0m \u001b[38;5;28;01mif\u001b[39;00m \u001b[38;5;28misinstance\u001b[39m(operation, Instruction):\n\u001b[0;32m   1309\u001b[0m     \u001b[38;5;28;01mfor\u001b[39;00m qarg, carg \u001b[38;5;129;01min\u001b[39;00m operation\u001b[38;5;241m.\u001b[39mbroadcast_arguments(expanded_qargs, expanded_cargs):\n\u001b[1;32m-> 1310\u001b[0m         \u001b[38;5;28;43mself\u001b[39;49m\u001b[38;5;241;43m.\u001b[39;49m\u001b[43m_check_dups\u001b[49m\u001b[43m(\u001b[49m\u001b[43mqarg\u001b[49m\u001b[43m)\u001b[49m\n\u001b[0;32m   1311\u001b[0m         instruction \u001b[38;5;241m=\u001b[39m CircuitInstruction(operation, qarg, carg)\n\u001b[0;32m   1312\u001b[0m         appender(instruction)\n",
      "File \u001b[1;32m~\\anaconda3\\envs\\tf\\lib\\site-packages\\qiskit\\circuit\\quantumcircuit.py:1536\u001b[0m, in \u001b[0;36mQuantumCircuit._check_dups\u001b[1;34m(self, qubits)\u001b[0m\n\u001b[0;32m   1534\u001b[0m squbits \u001b[38;5;241m=\u001b[39m \u001b[38;5;28mset\u001b[39m(qubits)\n\u001b[0;32m   1535\u001b[0m \u001b[38;5;28;01mif\u001b[39;00m \u001b[38;5;28mlen\u001b[39m(squbits) \u001b[38;5;241m!=\u001b[39m \u001b[38;5;28mlen\u001b[39m(qubits):\n\u001b[1;32m-> 1536\u001b[0m     \u001b[38;5;28;01mraise\u001b[39;00m CircuitError(\u001b[38;5;124m\"\u001b[39m\u001b[38;5;124mduplicate qubit arguments\u001b[39m\u001b[38;5;124m\"\u001b[39m)\n",
      "\u001b[1;31mCircuitError\u001b[0m: 'duplicate qubit arguments'"
     ]
    }
   ],
   "source": [
    "def quantum_comparator(num1, num2):\n",
    "    # Determine the number of qubits required\n",
    "    num_qubits = max(num1.bit_length(), num2.bit_length()) + 1\n",
    "    \n",
    "    # Initialize the quantum circuit\n",
    "    qr = QuantumRegister(num_qubits, 'q')\n",
    "    cr = ClassicalRegister(num_qubits - 1, 'c')\n",
    "    qc = QuantumCircuit(qr, cr)\n",
    "    \n",
    "    # Encode the integers as binary numbers\n",
    "    for i in range(num_qubits - 1):\n",
    "        if (num1 >> i) & 1:\n",
    "            qc.x(qr[i])\n",
    "        if (num2 >> i) & 1:\n",
    "            qc.x(qr[i])\n",
    "    \n",
    "    # Construct the comparator circuit using Fredkin gates\n",
    "    for i in range(num_qubits - 1):\n",
    "        qc.cswap(qr[i], qr[num_qubits - 1], qr[num_qubits - i - 2])\n",
    "    \n",
    "    # Measure the output qubits\n",
    "    for i in range(num_qubits - 1):\n",
    "        qc.measure(qr[i], cr[i])\n",
    "    \n",
    "    # Execute the circuit on a simulator\n",
    "    backend = Aer.get_backend('qasm_simulator')\n",
    "    result = execute(qc, backend, shots=1).result()\n",
    "    counts = result.get_counts(qc)\n",
    "    \n",
    "    # Determine the greater number from the measurement results\n",
    "    for key in counts.keys():\n",
    "        if key[0] == '1':\n",
    "            return num1\n",
    "        else:\n",
    "            return num2\n",
    "\n",
    "        \n",
    "print(quantum_comparator(5,6))"
   ]
  }
 ],
 "metadata": {
  "kernelspec": {
   "display_name": "tf",
   "language": "python",
   "name": "tf"
  },
  "language_info": {
   "codemirror_mode": {
    "name": "ipython",
    "version": 3
   },
   "file_extension": ".py",
   "mimetype": "text/x-python",
   "name": "python",
   "nbconvert_exporter": "python",
   "pygments_lexer": "ipython3",
   "version": "3.10.8"
  }
 },
 "nbformat": 4,
 "nbformat_minor": 5
}
