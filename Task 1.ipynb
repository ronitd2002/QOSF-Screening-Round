{
 "cells": [
  {
   "cell_type": "markdown",
   "id": "6b6476bb",
   "metadata": {},
   "source": [
    "# Screening Round (QOSF Mentorship) [Cohort 7]"
   ]
  },
  {
   "cell_type": "markdown",
   "id": "59306c0e",
   "metadata": {},
   "source": [
    "#### Importing libraries"
   ]
  },
  {
   "cell_type": "code",
   "execution_count": 50,
   "id": "04c03845",
   "metadata": {},
   "outputs": [],
   "source": [
    "from qiskit import QuantumRegister, ClassicalRegister, QuantumCircuit, Aer, execute"
   ]
  },
  {
   "cell_type": "markdown",
   "id": "39ee6832",
   "metadata": {},
   "source": [
    "### Function to print greater number"
   ]
  },
  {
   "cell_type": "raw",
   "id": "94fd9c34",
   "metadata": {},
   "source": [
    "In the solution, our function takes two integers num1 and num2 as input and returns the greater number. \n",
    "\n",
    "1) It first determines the number of qubits required to encode the integers as binary numbers. \n",
    "2) It then initializes a quantum circuit with the required number of qubits and constructs the comparator circuit using Fredkin gates. \n",
    "3) The output qubits are measured, and the measurement results are used to determine the greater number.\n",
    "\n",
    "-> The function executes the circuit on a simulator using Qiskit's Aer backend."
   ]
  },
  {
   "cell_type": "code",
   "execution_count": 44,
   "id": "591deff8",
   "metadata": {},
   "outputs": [
    {
     "name": "stdout",
     "output_type": "stream",
     "text": [
      "33\n"
     ]
    }
   ],
   "source": [
    "def quantum_comparator(num1, num2):\n",
    "    # Determine the number of qubits required\n",
    "    num_qubits = max(num1.bit_length(), num2.bit_length()) + 1\n",
    "    \n",
    "    # Initialize the quantum circuit\n",
    "    qr = QuantumRegister(num_qubits, 'q')\n",
    "    cr = ClassicalRegister(num_qubits - 1, 'c')\n",
    "    qc = QuantumCircuit(qr, cr)\n",
    "    \n",
    "    # Encode the integers as binary numbers\n",
    "    for i in range(num_qubits - 1):\n",
    "        if (num1 >> i) & 1:\n",
    "            qc.x(qr[i])\n",
    "        if (num2 >> i) & 1:\n",
    "            qc.x(qr[i])\n",
    "    \n",
    "    # Construct the comparator circuit using Fredkin gates\n",
    "    for i in range(num_qubits - 1):\n",
    "        qc.cswap(qr[i], qr[num_qubits - 1], qr[num_qubits - i - 2])\n",
    "    \n",
    "    # Measure the output qubits\n",
    "    for i in range(num_qubits - 1):\n",
    "        qc.measure(qr[i], cr[i])\n",
    "    \n",
    "    # Execute the circuit on a simulator\n",
    "    backend = Aer.get_backend('qasm_simulator')\n",
    "    result = execute(qc, backend, shots=1).result()\n",
    "    counts = result.get_counts(qc)\n",
    "    \n",
    "    # Determine the greater number from the measurement results\n",
    "    for key in counts.keys():\n",
    "        if key[0] == '1':\n",
    "            return num1\n",
    "        else:\n",
    "            return num2\n",
    "\n",
    "        \n",
    "print(quantum_comparator(12,33))"
   ]
  }
 ],
 "metadata": {
  "kernelspec": {
   "display_name": "tf",
   "language": "python",
   "name": "tf"
  },
  "language_info": {
   "codemirror_mode": {
    "name": "ipython",
    "version": 3
   },
   "file_extension": ".py",
   "mimetype": "text/x-python",
   "name": "python",
   "nbconvert_exporter": "python",
   "pygments_lexer": "ipython3",
   "version": "3.10.8"
  }
 },
 "nbformat": 4,
 "nbformat_minor": 5
}
