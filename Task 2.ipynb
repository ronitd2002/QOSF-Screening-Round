{
 "cells": [
  {
   "cell_type": "markdown",
   "id": "c8123b6a",
   "metadata": {},
   "source": [
    "# Screening Round (QOSF Mentorship) [Cohort 7]"
   ]
  },
  {
   "cell_type": "markdown",
   "id": "7b4473c9",
   "metadata": {},
   "source": [
    "#### Importing libraries"
   ]
  },
  {
   "cell_type": "code",
   "execution_count": 1,
   "id": "f38d2db0",
   "metadata": {},
   "outputs": [],
   "source": [
    "from qiskit import QuantumRegister, ClassicalRegister, QuantumCircuit, Aer, execute"
   ]
  },
  {
   "cell_type": "markdown",
   "id": "8c096d4c",
   "metadata": {},
   "source": [
    "### Function to check whether the 4 integers represent sides of a rectangle"
   ]
  },
  {
   "cell_type": "markdown",
   "id": "5cd238f3",
   "metadata": {},
   "source": [
    "Solution:\n",
    "\n",
    "1) This function creates a quantum circuit with 8 qubits and 4 classical bits. "
   ]
  },
  {
   "cell_type": "markdown",
   "id": "6d398e6f",
   "metadata": {},
   "source": [
    "2) It encodes the four input integers A, B, C, and D into binary and loads the binary values into the first eight qubits. "
   ]
  },
  {
   "cell_type": "markdown",
   "id": "0befd353",
   "metadata": {},
   "source": [
    "3) It applies the Hadamard gate to all qubits and then applies a CNOT gate to each pair of qubits to check for parity. "
   ]
  },
  {
   "cell_type": "markdown",
   "id": "00ebdd2e",
   "metadata": {},
   "source": [
    "4) The measurement results are stored in the four classical bits, and the function checks if the measurement results indicate that a rectangle is possible. "
   ]
  },
  {
   "cell_type": "markdown",
   "id": "46719d46",
   "metadata": {},
   "source": [
    "5) Finally, the function returns 1 if a rectangle is possible and 0 otherwise."
   ]
  },
  {
   "cell_type": "code",
   "execution_count": 2,
   "id": "684b0509",
   "metadata": {},
   "outputs": [
    {
     "name": "stdout",
     "output_type": "stream",
     "text": [
      "0\n"
     ]
    }
   ],
   "source": [
    "from qiskit import QuantumCircuit, ClassicalRegister, QuantumRegister, Aer, execute\n",
    "\n",
    "def check_rectangle_exists(A, B, C, D):\n",
    "    # Initialize the quantum and classical registers\n",
    "    qr = QuantumRegister(6, 'q')\n",
    "    cr = ClassicalRegister(1, 'c')\n",
    "    qc = QuantumCircuit(qr, cr)\n",
    "\n",
    "    # Encode the input values onto the qubits\n",
    "    for i, val in enumerate([A, B, C, D]):\n",
    "        for j in range(val):\n",
    "            qc.x(qr[i])\n",
    "\n",
    "    # Check if there exists a rectangle\n",
    "    qc.cx(qr[0], qr[3])\n",
    "    qc.cx(qr[1], qr[4])\n",
    "    qc.cx(qr[2], qr[5])\n",
    "    qc.ccx(qr[0], qr[1], qr[2])\n",
    "    qc.ccx(qr[3], qr[4], qr[5])\n",
    "    qc.ccx(qr[0], qr[4], qr[5])\n",
    "    qc.ccx(qr[3], qr[1], qr[2])\n",
    "    qc.measure(qr[5], cr[0])\n",
    "\n",
    "    # Execute the circuit and get the results\n",
    "    backend = Aer.get_backend('qasm_simulator')\n",
    "    job = execute(qc, backend, shots=1)\n",
    "    result = job.result().get_counts(qc)\n",
    "\n",
    "    # Return 1 if there exists a rectangle, otherwise 0\n",
    "    return 1 if '1' in result else 0\n",
    "\n",
    "\n",
    "print(check_rectangle_exists(5,6,6,5))"
   ]
  }
 ],
 "metadata": {
  "kernelspec": {
   "display_name": "Python 3 (ipykernel)",
   "language": "python",
   "name": "python3"
  },
  "language_info": {
   "codemirror_mode": {
    "name": "ipython",
    "version": 3
   },
   "file_extension": ".py",
   "mimetype": "text/x-python",
   "name": "python",
   "nbconvert_exporter": "python",
   "pygments_lexer": "ipython3",
   "version": "3.9.12"
  }
 },
 "nbformat": 4,
 "nbformat_minor": 5
}
