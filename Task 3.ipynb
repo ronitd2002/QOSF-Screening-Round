{
 "cells": [
  {
   "cell_type": "markdown",
   "id": "e621188b",
   "metadata": {},
   "source": [
    "# Screening Round (QOSF Mentorship) [Cohort 7]"
   ]
  },
  {
   "cell_type": "markdown",
   "id": "3e76da9e",
   "metadata": {},
   "source": [
    "#### Importing libraries and loading IRIS Dataset"
   ]
  },
  {
   "cell_type": "code",
   "execution_count": 2,
   "id": "0f13d21d",
   "metadata": {},
   "outputs": [],
   "source": [
    "import numpy as np\n",
    "from qiskit import Aer\n",
    "from qiskit.circuit.library import ZZFeatureMap, TwoLocal\n",
    "from qiskit.utils import QuantumInstance\n",
    "\n",
    "from qiskit_machine_learning.kernels import QuantumKernel\n",
    "from sklearn.datasets import load_iris\n",
    "\n",
    "# load iris dataset\n",
    "iris = load_iris()\n",
    "X, y = iris.data, iris.target"
   ]
  },
  {
   "cell_type": "code",
   "execution_count": 3,
   "id": "ff4cda43",
   "metadata": {},
   "outputs": [
    {
     "ename": "ImportError",
     "evalue": "cannot import name 'QSVM' from 'qiskit_machine_learning.algorithms' (C:\\Users\\Administrator\\anaconda3\\envs\\tf\\lib\\site-packages\\qiskit_machine_learning\\algorithms\\__init__.py)",
     "output_type": "error",
     "traceback": [
      "\u001b[1;31m---------------------------------------------------------------------------\u001b[0m",
      "\u001b[1;31mImportError\u001b[0m                               Traceback (most recent call last)",
      "Cell \u001b[1;32mIn[3], line 1\u001b[0m\n\u001b[1;32m----> 1\u001b[0m \u001b[38;5;28;01mfrom\u001b[39;00m \u001b[38;5;21;01mqiskit_machine_learning\u001b[39;00m\u001b[38;5;21;01m.\u001b[39;00m\u001b[38;5;21;01malgorithms\u001b[39;00m \u001b[38;5;28;01mimport\u001b[39;00m QSVM\n",
      "\u001b[1;31mImportError\u001b[0m: cannot import name 'QSVM' from 'qiskit_machine_learning.algorithms' (C:\\Users\\Administrator\\anaconda3\\envs\\tf\\lib\\site-packages\\qiskit_machine_learning\\algorithms\\__init__.py)"
     ]
    }
   ],
   "source": [
    "from qiskit_machine_learning.algorithms import QSVM"
   ]
  }
 ],
 "metadata": {
  "kernelspec": {
   "display_name": "tf",
   "language": "python",
   "name": "tf"
  },
  "language_info": {
   "codemirror_mode": {
    "name": "ipython",
    "version": 3
   },
   "file_extension": ".py",
   "mimetype": "text/x-python",
   "name": "python",
   "nbconvert_exporter": "python",
   "pygments_lexer": "ipython3",
   "version": "3.10.8"
  }
 },
 "nbformat": 4,
 "nbformat_minor": 5
}
