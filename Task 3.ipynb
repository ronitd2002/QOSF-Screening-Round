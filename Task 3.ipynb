{
 "cells": [
  {
   "cell_type": "markdown",
   "id": "e621188b",
   "metadata": {},
   "source": [
    "# Screening Round (QOSF Mentorship) [Cohort 7]"
   ]
  },
  {
   "cell_type": "markdown",
   "id": "3e76da9e",
   "metadata": {},
   "source": [
    "#### Importing libraries and loading IRIS Dataset"
   ]
  },
  {
   "cell_type": "code",
   "execution_count": 1,
   "id": "0f13d21d",
   "metadata": {},
   "outputs": [
    {
     "ename": "ImportError",
     "evalue": "cannot import name 'QSVM' from 'qiskit_machine_learning.algorithms' (C:\\Users\\Administrator\\anaconda3\\envs\\tf\\lib\\site-packages\\qiskit_machine_learning\\algorithms\\__init__.py)",
     "output_type": "error",
     "traceback": [
      "\u001b[1;31m---------------------------------------------------------------------------\u001b[0m",
      "\u001b[1;31mImportError\u001b[0m                               Traceback (most recent call last)",
      "Cell \u001b[1;32mIn[1], line 5\u001b[0m\n\u001b[0;32m      3\u001b[0m \u001b[38;5;28;01mfrom\u001b[39;00m \u001b[38;5;21;01mqiskit\u001b[39;00m\u001b[38;5;21;01m.\u001b[39;00m\u001b[38;5;21;01mcircuit\u001b[39;00m\u001b[38;5;21;01m.\u001b[39;00m\u001b[38;5;21;01mlibrary\u001b[39;00m \u001b[38;5;28;01mimport\u001b[39;00m ZZFeatureMap, TwoLocal\n\u001b[0;32m      4\u001b[0m \u001b[38;5;28;01mfrom\u001b[39;00m \u001b[38;5;21;01mqiskit\u001b[39;00m\u001b[38;5;21;01m.\u001b[39;00m\u001b[38;5;21;01mutils\u001b[39;00m \u001b[38;5;28;01mimport\u001b[39;00m QuantumInstance\n\u001b[1;32m----> 5\u001b[0m \u001b[38;5;28;01mfrom\u001b[39;00m \u001b[38;5;21;01mqiskit_machine_learning\u001b[39;00m\u001b[38;5;21;01m.\u001b[39;00m\u001b[38;5;21;01malgorithms\u001b[39;00m \u001b[38;5;28;01mimport\u001b[39;00m QSVM\n\u001b[0;32m      6\u001b[0m \u001b[38;5;28;01mfrom\u001b[39;00m \u001b[38;5;21;01mqiskit_machine_learning\u001b[39;00m\u001b[38;5;21;01m.\u001b[39;00m\u001b[38;5;21;01mkernels\u001b[39;00m \u001b[38;5;28;01mimport\u001b[39;00m QuantumKernel\n\u001b[0;32m      7\u001b[0m \u001b[38;5;28;01mfrom\u001b[39;00m \u001b[38;5;21;01msklearn\u001b[39;00m\u001b[38;5;21;01m.\u001b[39;00m\u001b[38;5;21;01mdatasets\u001b[39;00m \u001b[38;5;28;01mimport\u001b[39;00m load_iris\n",
      "\u001b[1;31mImportError\u001b[0m: cannot import name 'QSVM' from 'qiskit_machine_learning.algorithms' (C:\\Users\\Administrator\\anaconda3\\envs\\tf\\lib\\site-packages\\qiskit_machine_learning\\algorithms\\__init__.py)"
     ]
    }
   ],
   "source": [
    "import numpy as np\n",
    "from qiskit import Aer\n",
    "from qiskit.circuit.library import ZZFeatureMap, TwoLocal\n",
    "from qiskit.utils import QuantumInstance\n",
    "from qiskit_machine_learning.algorithms import QSVM\n",
    "from qiskit_machine_learning.kernels import QuantumKernel\n",
    "from sklearn.datasets import load_iris\n",
    "\n",
    "# load iris dataset\n",
    "iris = load_iris()\n",
    "X, y = iris.data, iris.target"
   ]
  },
  {
   "cell_type": "code",
   "execution_count": 2,
   "id": "f1b42af6",
   "metadata": {},
   "outputs": [
    {
     "ename": "NameError",
     "evalue": "name 'X' is not defined",
     "output_type": "error",
     "traceback": [
      "\u001b[1;31m---------------------------------------------------------------------------\u001b[0m",
      "\u001b[1;31mNameError\u001b[0m                                 Traceback (most recent call last)",
      "Cell \u001b[1;32mIn[2], line 2\u001b[0m\n\u001b[0;32m      1\u001b[0m \u001b[38;5;66;03m# normalize features\u001b[39;00m\n\u001b[1;32m----> 2\u001b[0m X_norm \u001b[38;5;241m=\u001b[39m np\u001b[38;5;241m.\u001b[39mzeros_like(\u001b[43mX\u001b[49m)\n\u001b[0;32m      3\u001b[0m \u001b[38;5;28;01mfor\u001b[39;00m i \u001b[38;5;129;01min\u001b[39;00m \u001b[38;5;28mrange\u001b[39m(X\u001b[38;5;241m.\u001b[39mshape[\u001b[38;5;241m1\u001b[39m]):\n\u001b[0;32m      4\u001b[0m     X_norm[:, i] \u001b[38;5;241m=\u001b[39m (X[:, i] \u001b[38;5;241m-\u001b[39m X[:, i]\u001b[38;5;241m.\u001b[39mmean()) \u001b[38;5;241m/\u001b[39m X[:, i]\u001b[38;5;241m.\u001b[39mstd()\n",
      "\u001b[1;31mNameError\u001b[0m: name 'X' is not defined"
     ]
    }
   ],
   "source": [
    "# normalize features\n",
    "X_norm = np.zeros_like(X)\n",
    "for i in range(X.shape[1]):\n",
    "    X_norm[:, i] = (X[:, i] - X[:, i].mean()) / X[:, i].std()\n",
    "\n",
    "# split data into training and testing sets\n",
    "train_size = 0.7\n",
    "train_idx = np.random.choice(range(X.shape[0]), size=int(X.shape[0]*train_size), replace=False)\n",
    "test_idx = np.array(list(set(range(X.shape[0])) - set(train_idx)))\n",
    "X_train, y_train = X_norm[train_idx], y[train_idx]\n",
    "X_test, y_test = X_norm[test_idx], y[test_idx]\n"
   ]
  }
 ],
 "metadata": {
  "kernelspec": {
   "display_name": "tf",
   "language": "python",
   "name": "tf"
  },
  "language_info": {
   "codemirror_mode": {
    "name": "ipython",
    "version": 3
   },
   "file_extension": ".py",
   "mimetype": "text/x-python",
   "name": "python",
   "nbconvert_exporter": "python",
   "pygments_lexer": "ipython3",
   "version": "3.10.8"
  }
 },
 "nbformat": 4,
 "nbformat_minor": 5
}
