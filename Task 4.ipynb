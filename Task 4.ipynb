{
 "cells": [
  {
   "cell_type": "markdown",
   "id": "9b1ccbd4",
   "metadata": {},
   "source": [
    "# Screening Round (QOSF Mentorship) [Cohort 7]"
   ]
  },
  {
   "cell_type": "markdown",
   "id": "e9ba3fe8",
   "metadata": {},
   "source": [
    "#### Importing required libraries"
   ]
  },
  {
   "cell_type": "code",
   "execution_count": 1,
   "id": "14709b4a",
   "metadata": {},
   "outputs": [],
   "source": [
    "import numpy as np\n",
    "\n",
    "from qiskit import QuantumCircuit, QuantumRegister, ClassicalRegister\n",
    "from qiskit.quantum_info import Statevector\n",
    "import qiskit.quantum_info as qi\n",
    "from qiskit.visualization import plot_state_qsphere, plot_bloch_multivector\n",
    "from qiskit.circuit.gate import Gate\n",
    "from qiskit.circuit.quantumregister import QuantumRegister\n",
    "import qiskit.circuit.library.standard_gates\n",
    "from qiskit import QuantumCircuit,Aer,transpile\n",
    "\n",
    "import random"
   ]
  },
  {
   "cell_type": "markdown",
   "id": "872c9765",
   "metadata": {},
   "source": [
    "#### Function to generate random circuit"
   ]
  },
  {
   "cell_type": "code",
   "execution_count": 2,
   "id": "012f9c9c",
   "metadata": {},
   "outputs": [],
   "source": [
    "def generate_random_circuit(num_qubits, depth, basis_gates):\n",
    "    # Create a quantum register with the given number of qubits\n",
    "    qreg = QuantumRegister(num_qubits, 'q')\n",
    "\n",
    "    # Create a new quantum circuit with the given quantum register\n",
    "    qc = QuantumCircuit(qreg)\n",
    "\n",
    "    # Generate a random quantum circuit with the given depth and basis gates\n",
    "    for i in range(depth):\n",
    "        # Apply a random basis gate to each qubit in the circuit\n",
    "        for j in range(num_qubits):\n",
    "            gate = random.choice(basis_gates)\n",
    "            if gate == 'x':\n",
    "                qc.x(qreg[j])\n",
    "            elif gate == 'y':\n",
    "                qc.y(qreg[j])\n",
    "            elif gate == 'z':\n",
    "                qc.z(qreg[j])\n",
    "            elif gate == 'h':\n",
    "                qc.h(qreg[j])\n",
    "        \n",
    "        # Apply a random two-qubit gate to a pair of qubits in the circuit\n",
    "        if num_qubits > 1:\n",
    "            q1, q2 = random.sample(range(num_qubits), 2)\n",
    "            qc.cx(qreg[q1], qreg[q2])\n",
    "\n",
    "    return qc"
   ]
  },
  {
   "cell_type": "markdown",
   "id": "deb2c8f9",
   "metadata": {},
   "source": [
    "Here, $\\newline$ $\\textbf{num$\\_$qubits}$ is the number of qubits in the circuit, $\\newline$ $\\textbf{depth}$ is the depth of the circuit (i.e., the number of layers of gates), and $\\newline$ $\\textbf{basis$\\_$gates}$ is a list of basis gates to be used in the circuit (e.g., ['x', 'y', 'z', 'h'])."
   ]
  },
  {
   "cell_type": "markdown",
   "id": "6120ca30",
   "metadata": {},
   "source": [
    "The function generates a random quantum circuit by applying a random basis gate to each qubit in the circuit and a random two-qubit gate to a pair of qubits in the circuit."
   ]
  },
  {
   "cell_type": "markdown",
   "id": "a6ddc344",
   "metadata": {},
   "source": [
    "The function returns a QuantumCircuit object representing the generated circuit."
   ]
  },
  {
   "cell_type": "code",
   "execution_count": 3,
   "id": "bcff5337",
   "metadata": {},
   "outputs": [
    {
     "data": {
      "image/png": "[encoded data removed]",
      "text/plain": [
       "<Figure size 454.719x284.278 with 1 Axes>"
      ]
     },
     "execution_count": 3,
     "metadata": {},
     "output_type": "execute_result"
    }
   ],
   "source": [
    "qc = generate_random_circuit(3, 2, ['x', 'y', 'z', 'h'])\n",
    "qc.draw('mpl')"
   ]
  }
 ],
 "metadata": {
  "kernelspec": {
   "display_name": "tf",
   "language": "python",
   "name": "tf"
  },
  "language_info": {
   "codemirror_mode": {
    "name": "ipython",
    "version": 3
   },
   "file_extension": ".py",
   "mimetype": "text/x-python",
   "name": "python",
   "nbconvert_exporter": "python",
   "pygments_lexer": "ipython3",
   "version": "3.10.8"
  }
 },
 "nbformat": 4,
 "nbformat_minor": 5
}
